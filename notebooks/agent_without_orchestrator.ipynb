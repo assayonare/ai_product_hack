{
  "cells": [
    {
      "cell_type": "code",
      "execution_count": null,
      "metadata": {
        "id": "sM5crEyq_kVe"
      },
      "outputs": [],
      "source": [
        "%%capture --no-stderr\n",
        "%pip install -U langchain_openai langgraph trustcall langchain_core yandexcloud tavily-python langsmith openai vllm accelerate langchain_community langgraph_sdk wikipedia"
      ]
    },
    {
      "cell_type": "code",
      "execution_count": null,
      "metadata": {
        "colab": {
          "base_uri": "https://localhost:8080/"
        },
        "id": "G1DCnPLD_mmX",
        "outputId": "b728a30d-55e0-49ea-fca9-6df8269ec946"
      },
      "outputs": [
        {
          "name": "stderr",
          "output_type": "stream",
          "text": [
            "/tmp/ipython-input-1611001186.py:19: LangGraphDeprecatedSinceV10: Importing Send from langgraph.constants is deprecated. Please use 'from langgraph.types import Send' instead. Deprecated in LangGraph V1.0 to be removed in V2.0.\n",
            "  from langgraph.constants import Send\n"
          ]
        }
      ],
      "source": [
        "import os\n",
        "from google.colab import userdata\n",
        "\n",
        "import operator\n",
        "\n",
        "import uuid\n",
        "\n",
        "import builtins\n",
        "\n",
        "from langchain_core.messages import HumanMessage, SystemMessage, AIMessage\n",
        "from langchain_openai import ChatOpenAI\n",
        "from langchain_core.tools import tool\n",
        "from langgraph.graph import StateGraph, START, END, MessagesState\n",
        "from langgraph.prebuilt import ToolNode, tools_condition\n",
        "from langgraph.checkpoint.memory import MemorySaver\n",
        "from langgraph.store.base import BaseStore\n",
        "from langgraph.store.memory import InMemoryStore\n",
        "from langchain_core.runnables.config import RunnableConfig\n",
        "from langgraph.constants import Send\n",
        "\n",
        "from IPython.display import Image, display\n",
        "\n",
        "from tavily import TavilyClient\n",
        "from langchain_community.document_loaders import WikipediaLoader\n",
        "from langchain_community.tools import TavilySearchResults\n",
        "\n",
        "from jinja2 import Template\n",
        "from pydantic import BaseModel, Field\n",
        "from typing import Annotated, Any, Optional, List, Literal\n",
        "from typing_extensions import TypedDict"
      ]
    },
    {
      "cell_type": "code",
      "execution_count": null,
      "metadata": {
        "id": "aJddK6Og_oYm"
      },
      "outputs": [],
      "source": [
        "os.environ['OPENAI_API_KEY'] = userdata.get('OPENAI_2')\n",
        "os.environ['TAVILY_API_KEY'] = userdata.get('tavili_hack')\n"
      ]
    },
    {
      "cell_type": "code",
      "execution_count": null,
      "metadata": {
        "id": "Ai6gpxmI_vYG"
      },
      "outputs": [],
      "source": [
        "model_name = \"gpt-4o-mini\"\n",
        "\n",
        "tavily_client = TavilyClient(api_key=os.getenv('TAVILY_API_KEY'))"
      ]
    },
    {
      "cell_type": "code",
      "execution_count": null,
      "metadata": {
        "id": "yiBHHpbU_0LR"
      },
      "outputs": [],
      "source": [
        "def display_graph(app, xray=0):\n",
        "  display(Image(app.get_graph(xray=xray).draw_mermaid_png()))"
      ]
    },
    {
      "cell_type": "code",
      "execution_count": null,
      "metadata": {
        "id": "gH7AzlJD_2Fv"
      },
      "outputs": [],
      "source": [
        "@tool\n",
        "def web_search(query: str) -> str:\n",
        "    \"\"\"Performs an internet search and returns the result.\"\"\"\n",
        "    return tavily_client.qna_search(query=query)\n",
        "\n",
        "class FinalAnswer(BaseModel):\n",
        "  answer: str = Field(description=\"final answer to user's question.\")\n",
        "  # next_node: = Literal[\"node_1\", \"node_2\", \"node_3\"]"
      ]
    },
    {
      "cell_type": "code",
      "execution_count": null,
      "metadata": {
        "id": "b0BRWKKw_4AI"
      },
      "outputs": [],
      "source": [
        "# tools = [web_search, FinalAnswer]\n",
        "tools = [web_search]\n",
        "tool_node = ToolNode(tools)"
      ]
    },
    {
      "cell_type": "code",
      "execution_count": null,
      "metadata": {
        "id": "Y-L5F87r_6NX"
      },
      "outputs": [],
      "source": [
        "def generate_tool_description(tool):\n",
        "    \"\"\"\n",
        "    Генерирует краткое и информативное описание инструмента для использования в промпте LLM-агента.\n",
        "    \"\"\"\n",
        "    # Извлекаем основные параметры\n",
        "    name = tool.name\n",
        "    description = tool.description.strip() if tool.description else \"No description available.\"\n",
        "\n",
        "    # Форматируем аргументы в удобный вид\n",
        "    args = \", \".join([f\"{arg}: {details['type']}\" for arg, details in tool.args.items()])\n",
        "\n",
        "    # Формируем финальную строку\n",
        "    tool_description = f\"{name}({args}) - {description}\"\n",
        "\n",
        "    return tool_description"
      ]
    },
    {
      "cell_type": "code",
      "execution_count": null,
      "metadata": {
        "colab": {
          "base_uri": "https://localhost:8080/",
          "height": 35
        },
        "id": "0GGTzANu_8gT",
        "outputId": "ff6081ed-b8ed-4196-8f4b-6d73d96ec7a7"
      },
      "outputs": [
        {
          "data": {
            "application/vnd.google.colaboratory.intrinsic+json": {
              "type": "string"
            },
            "text/plain": [
              "'web_search(query: string) - Performs an internet search and returns the result.'"
            ]
          },
          "execution_count": 8,
          "metadata": {},
          "output_type": "execute_result"
        }
      ],
      "source": [
        "generate_tool_description(web_search)"
      ]
    },
    {
      "cell_type": "code",
      "execution_count": null,
      "metadata": {
        "id": "2ZCrerW5_-QT"
      },
      "outputs": [],
      "source": [
        "def clarification_node(state):\n",
        "  messages = state['messages']\n",
        "  if len(messages) ==  1:\n",
        "    response = model.invoke([CLARIFY_SYSTEM_PROMPT] + messages)\n",
        "  else:\n",
        "    user_input = builtins.input(\"\")\n",
        "\n",
        "    messages.append(HumanMessage(content=user_input))\n",
        "\n",
        "    response = model.invoke([CLARIFY_SYSTEM_PROMPT] + messages)\n",
        "\n",
        "  return {\"messages\": [response]}\n",
        "\n",
        "\n",
        "def route(state) -> Literal['clarify', 'continue']:\n",
        "  if state['messages'][-1].content == '<END>':\n",
        "    return 'continue'\n",
        "  return 'clarify'\n",
        "\n",
        "\n",
        "def agent_node(state):\n",
        "  messages = state['messages']\n",
        "\n",
        "  response = model.invoke([AGENT_SYSTEM_PROMPT] + messages)\n",
        "\n",
        "  return {\"messages\": [response]}"
      ]
    },
    {
      "cell_type": "code",
      "execution_count": null,
      "metadata": {
        "id": "Z8PduZEwAAYV"
      },
      "outputs": [],
      "source": [
        "CLARIFY_SYSTEM_PROMPT = \"\"\"\n",
        "You are a clarification module in an LLM-based assistant. Your task is to determine if the user's query requires additional clarification before processing. If clarification is needed, ask a concise and relevant follow-up question. If no further clarification is required, output the token <END>. Your goal is to ensure the assistant has all necessary information to provide an accurate response.\n",
        "\n",
        "### When is clarification needed?\n",
        "A user's query requires clarification if its answer depends on variable factors such as:\n",
        "- The user's location (e.g., weather, nearby places, local time).\n",
        "- The user's preferences or specific details (e.g., booking a flight, choosing a product).\n",
        "- The user's current context or state (e.g., converting currencies without a date, checking a personalized setting).\n",
        "\n",
        "If the answer does **not** depend on the user's state, location, or context (e.g., historical facts, general knowledge, company information), output `<END>` immediately.\n",
        "\n",
        "### Guidelines:\n",
        "- Ask only **one** clarifying question at a time.\n",
        "- Keep your question **short and specific**.\n",
        "- If all needed clarifications have been made, return `<END>`.\n",
        "- If no clarification is required from the start, return `<END>` immediately.\n",
        "- **Do not assume missing details**—ask explicitly.\n",
        "\n",
        "## Examples:\n",
        "<examples>\n",
        "\n",
        "### Example 1:\n",
        "User: \"What’s the weather like now?\"\n",
        "Output: \"Which city are you in?\"\n",
        "User: \"I live in London.\"\n",
        "Output: \"<END>\"\n",
        "\n",
        "### Example 2:\n",
        "User: \"What is the best restaurant near me?\"\n",
        "Output: \"What city or location are you referring to?\"\n",
        "User: \"I am in the center of Paris.\"\n",
        "Output: \"<END>\"\n",
        "\n",
        "### Example 3:\n",
        "User: \"Convert 10 USD to EUR.\"\n",
        "Output: \"<END>\"\n",
        "\n",
        "### Example 4:\n",
        "User: \"Book a flight.\"\n",
        "Output: \"What is your departure city?\"\n",
        "User: \"New York.\"\n",
        "Output: \"What is your destination?\"\n",
        "User: \"Los Angeles.\"\n",
        "Output: \"What date do you want to fly?\"\n",
        "User: \"Next Friday.\"\n",
        "Output: \"<END>\"\n",
        "\n",
        "</examples>\n",
        "\"\"\""
      ]
    },
    {
      "cell_type": "code",
      "execution_count": null,
      "metadata": {
        "id": "FYdJDUM0ACPw"
      },
      "outputs": [],
      "source": [
        "AGENT_SYSTEM_PROMPT = \"\"\"\n",
        "You are an AI assistant responsible for answering user queries based on the full conversation history. This history may include clarification questions and user responses, which must be considered to provide an accurate and complete answer.\n",
        "\n",
        "### Key Instructions:\n",
        "- Never ask any follow-up questions after choosing a tool.\n",
        "- **Use full context:** Always base your response on the entire conversation, incorporating any clarifications the user has provided.\n",
        "- **Use available tools when necessary:** If the query requires up-to-date information, **do not rely on static knowledge**; instead, use the appropriate tool when needed.\n",
        "\"\"\""
      ]
    },
    {
      "cell_type": "code",
      "execution_count": null,
      "metadata": {
        "colab": {
          "base_uri": "https://localhost:8080/",
          "height": 413
        },
        "id": "P8ZghBopAETH",
        "outputId": "45e3f3b4-879e-4423-e19e-76362fd255f9"
      },
      "outputs": [
        {
          "data": {
            "image/png": "[encoded data removed]",
            "text/plain": [
              "<IPython.core.display.Image object>"
            ]
          },
          "metadata": {},
          "output_type": "display_data"
        }
      ],
      "source": [
        "model = ChatOpenAI(model_name=model_name, temperature=0).bind_tools(tools=tools, tool_choice=\"auto\") # tool_choice=\"required\"\n",
        "\n",
        "workflow = StateGraph(state_schema=MessagesState)\n",
        "\n",
        "workflow.add_node(\"clarification_node\", clarification_node)\n",
        "workflow.add_node(\"agent_node\", agent_node)\n",
        "workflow.add_node(\"tools\", tool_node)\n",
        "\n",
        "workflow.add_edge(START, \"clarification_node\")\n",
        "workflow.add_conditional_edges(\n",
        "    \"clarification_node\",\n",
        "    lambda state: route(state),\n",
        "    {\n",
        "      \"clarify\": \"clarification_node\",\n",
        "      \"continue\": \"agent_node\"\n",
        "    }\n",
        ")\n",
        "\n",
        "workflow.add_conditional_edges(\n",
        "    \"agent_node\",     \n",
        "    tools_condition,  \n",
        ")\n",
        "workflow.add_edge(\"tools\", \"agent_node\")\n",
        "\n",
        "app = workflow.compile()\n",
        "\n",
        "display_graph(app)"
      ]
    },
    {
      "cell_type": "code",
      "execution_count": null,
      "metadata": {
        "id": "tXOm3LP1Z0Xm"
      },
      "outputs": [],
      "source": [
        "messages = [\n",
        "    HumanMessage(content=\"Какая погода у меня?\")\n",
        "]\n",
        "\n",
        "my_input = {\"messages\": messages}\n",
        "\n",
        "events_list = []\n",
        "\n",
        "for event in app.stream(my_input, stream_mode='updates'): # config,\n",
        "  key = list(event.keys())[0]\n",
        "  event[key]['messages'][0].pretty_print()\n",
        "  events_list.append(event[key]['messages'][0])"
      ]
    },
    {
      "cell_type": "markdown",
      "metadata": {
        "id": "V0RtAAv5YPLa"
      },
      "source": [
        "# Реализация под опенроутер\n",
        "т.к. у гпт закончился лимит по токенам..("
      ]
    },
    {
      "cell_type": "code",
      "execution_count": null,
      "metadata": {
        "id": "UKj0V7uqYOim"
      },
      "outputs": [],
      "source": [
        "from langchain_openai import ChatOpenAI\n",
        "\n",
        "OPENROUTER_KEY = userdata.get('OPEN_Router')\n",
        "\n",
        "model = ChatOpenAI(\n",
        "    base_url=\"https://openrouter.ai/api/v1\",\n",
        "    api_key=OPENROUTER_KEY,\n",
        "    model=\"qwen/qwen3-4b:free\",\n",
        "    temperature=0\n",
        ").bind_tools(tools=tools, tool_choice=\"auto\")\n"
      ]
    },
    {
      "cell_type": "code",
      "execution_count": null,
      "metadata": {
        "id": "S05bN59NZsvB"
      },
      "outputs": [],
      "source": [
        "def clarification_node(state):\n",
        "  messages = state['messages']\n",
        "  if len(messages) ==  1:\n",
        "    response = model.invoke([CLARIFY_SYSTEM_PROMPT] + messages)\n",
        "  else:\n",
        "    user_input = builtins.input(\"\")\n",
        "\n",
        "    messages.append(HumanMessage(content=user_input))\n",
        "\n",
        "    response = model.invoke([CLARIFY_SYSTEM_PROMPT] + messages)\n",
        "\n",
        "  return {\"messages\": [response]}\n",
        "\n",
        "\n",
        "def route(state) -> Literal['clarify', 'continue']:\n",
        "  if state['messages'][-1].content == '<END>':\n",
        "    return 'continue'\n",
        "  return 'clarify'\n",
        "\n",
        "\n",
        "def agent_node(state):\n",
        "  messages = state['messages']\n",
        "\n",
        "  response = model.invoke([AGENT_SYSTEM_PROMPT] + messages)\n",
        "\n",
        "  return {\"messages\": [response]}"
      ]
    },
    {
      "cell_type": "code",
      "execution_count": null,
      "metadata": {
        "id": "XXOuod9gZB7O"
      },
      "outputs": [],
      "source": [
        "workflow = StateGraph(state_schema=MessagesState)\n",
        "\n",
        "workflow.add_node(\"clarification_node\", clarification_node)\n",
        "workflow.add_node(\"agent_node\", agent_node)\n",
        "workflow.add_node(\"tools\", tool_node)\n",
        "\n",
        "workflow.add_edge(START, \"clarification_node\")\n",
        "workflow.add_conditional_edges(\n",
        "    \"clarification_node\",\n",
        "    lambda state: route(state),\n",
        "    {\n",
        "      \"clarify\": \"clarification_node\",\n",
        "      \"continue\": \"agent_node\"\n",
        "    }\n",
        ")\n",
        "\n",
        "workflow.add_conditional_edges(\n",
        "    \"agent_node\",     \n",
        "    tools_condition,  )\n",
        "\n",
        "workflow.add_edge(\"tools\", \"agent_node\")\n",
        "\n",
        "app = workflow.compile()\n",
        "\n",
        "# display_graph(app)"
      ]
    },
    {
      "cell_type": "code",
      "execution_count": null,
      "metadata": {
        "colab": {
          "base_uri": "https://localhost:8080/"
        },
        "id": "90Czk9cIZEeb",
        "outputId": "2d4756be-f701-4d0a-d0aa-a844c1ac5223"
      },
      "outputs": [
        {
          "name": "stdout",
          "output_type": "stream",
          "text": [
            "==================================\u001b[1m Ai Message \u001b[0m==================================\n",
            "\n",
            "Какой город или регион вы хотите узнать погоду?\n",
            "Москва\n",
            "==================================\u001b[1m Ai Message \u001b[0m==================================\n",
            "\n",
            "<END>\n",
            "==================================\u001b[1m Ai Message \u001b[0m==================================\n",
            "Tool Calls:\n",
            "  web_search (chatcmpl-tool-3a4a032b929041b28deb4787dc01c66f)\n",
            " Call ID: chatcmpl-tool-3a4a032b929041b28deb4787dc01c66f\n",
            "  Args:\n",
            "    query: current weather in Moscow\n",
            "=================================\u001b[1m Tool Message \u001b[0m=================================\n",
            "Name: web_search\n",
            "\n",
            "As of September 11, 2025, Moscow is sunny with a temperature of 68°F. Winds are light from the northwest. The forecast predicts mild weather for the next few days.\n",
            "==================================\u001b[1m Ai Message \u001b[0m==================================\n",
            "\n",
            "В Москве 11 сентября 2025 года: ясно, температура 68°F (20°C), слабый ветер с северо-запада. Ожидается умеренная погода в ближайшие дни.\n"
          ]
        }
      ],
      "source": [
        "messages = [\n",
        "    HumanMessage(content=\"Какая погода у меня?\")\n",
        "]\n",
        "\n",
        "my_input = {\"messages\": messages}\n",
        "\n",
        "events_list = []\n",
        "\n",
        "for event in app.stream(my_input, stream_mode='updates'): # config,\n",
        "  key = list(event.keys())[0]\n",
        "  event[key]['messages'][0].pretty_print()\n",
        "  events_list.append(event[key]['messages'][0])"
      ]
    },
    {
      "cell_type": "markdown",
      "metadata": {
        "id": "bRl-YEQT2JKn"
      },
      "source": [
        "# Трассировка под формат json"
      ]
    },
    {
      "cell_type": "code",
      "execution_count": null,
      "metadata": {
        "id": "e8fV7yho2MjX"
      },
      "outputs": [],
      "source": [
        "import time\n",
        "import uuid\n",
        "import json\n",
        "\n",
        "class Tracer:\n",
        "    def __init__(self, session_id=\"notebook_session\"):\n",
        "        self.session_id = session_id\n",
        "        self.events = []\n",
        "\n",
        "    def log_event(self, event_type, agent_name, agent_type, data=None, parent_event_id=None, duration=None, success=True):\n",
        "        event_id = str(uuid.uuid4())\n",
        "        timestamp = time.time()\n",
        "\n",
        "        event = {\n",
        "            \"event_id\": event_id,\n",
        "            \"timestamp\": timestamp,\n",
        "            \"event_type\": event_type,\n",
        "            \"agent_name\": agent_name,\n",
        "            \"agent_type\": agent_type,\n",
        "            \"data\": data or {},\n",
        "            \"parent_event_id\": parent_event_id,\n",
        "            \"session_id\": self.session_id,\n",
        "            \"duration\": duration,\n",
        "            \"success\": success,\n",
        "        }\n",
        "\n",
        "        self.events.append(event)\n",
        "        return event_id  \n"
      ]
    },
    {
      "cell_type": "code",
      "execution_count": null,
      "metadata": {
        "id": "dIEi0BlH2O1A"
      },
      "outputs": [],
      "source": [
        "def clarification_node(state, tracer: Tracer, parent_event_id=None):\n",
        "    start_id = tracer.log_event(\n",
        "        event_type=\"agent_start\",\n",
        "        agent_name=\"clarification_node\",\n",
        "        agent_type=\"clarification\",\n",
        "        data={\"step\": len(state[\"messages\"])},\n",
        "        parent_event_id=parent_event_id\n",
        "    )\n",
        "    t0 = time.time()\n",
        "\n",
        "    messages = state['messages']\n",
        "    if len(messages) == 1:\n",
        "        response = model.invoke([CLARIFY_SYSTEM_PROMPT] + messages)\n",
        "    else:\n",
        "        user_input = builtins.input(\"\")\n",
        "        messages.append(HumanMessage(content=user_input))\n",
        "        response = model.invoke([CLARIFY_SYSTEM_PROMPT] + messages)\n",
        "\n",
        "    tracer.log_event(\n",
        "        event_type=\"message_sent\",\n",
        "        agent_name=\"clarification_node\",\n",
        "        agent_type=\"clarification\",\n",
        "        data={\"message\": response.content},\n",
        "        parent_event_id=start_id\n",
        "    )\n",
        "\n",
        "    tracer.log_event(\n",
        "        event_type=\"agent_end\",\n",
        "        agent_name=\"clarification_node\",\n",
        "        agent_type=\"clarification\",\n",
        "        data={\"success\": True},\n",
        "        parent_event_id=start_id,\n",
        "        duration=time.time() - t0\n",
        "    )\n",
        "\n",
        "    return {\"messages\": [response]}\n"
      ]
    },
    {
      "cell_type": "code",
      "execution_count": null,
      "metadata": {
        "colab": {
          "base_uri": "https://localhost:8080/"
        },
        "id": "ROm_eP6P2Rnb",
        "outputId": "b4d83ada-8a4f-4562-a548-a63ce8e2b5bf"
      },
      "outputs": [
        {
          "name": "stdout",
          "output_type": "stream",
          "text": [
            "==================================\u001b[1m Ai Message \u001b[0m==================================\n",
            "\n",
            "Какой город или регион вы сейчас посетите?\n",
            "Москва\n",
            "==================================\u001b[1m Ai Message \u001b[0m==================================\n",
            "Tool Calls:\n",
            "  web_search (chatcmpl-tool-5f784821a132414087e2e6cab45994d3)\n",
            " Call ID: chatcmpl-tool-5f784821a132414087e2e6cab45994d3\n",
            "  Args:\n",
            "    query: current weather in Moscow\n",
            "\n",
            "==================================\u001b[1m Ai Message \u001b[0m==================================\n",
            "\n",
            "Сейчас в Москве погода: облака, температура воздуха +22°C, дождь возможен. 🌫️\n",
            "\n",
            "==================================\u001b[1m Ai Message \u001b[0m==================================\n",
            "\n",
            "Сейчас в Москве: облака, температура воздуха +22°C, дождь возможен. 🌫️\n",
            "хорошо, хватит я понял\n",
            "==================================\u001b[1m Ai Message \u001b[0m==================================\n",
            "\n",
            "<END>\n",
            "==================================\u001b[1m Ai Message \u001b[0m==================================\n",
            "\n",
            "Спасибо, что разобрался! Если будете нужны дополнительные сведения — не стесняйтесь спрашивать. 😊\n"
          ]
        }
      ],
      "source": [
        "tracer = Tracer(session_id=\"notebook_session\")\n",
        "\n",
        "messages = [HumanMessage(content=\"Какая сейчас у меня погода?\")]\n",
        "my_input = {\"messages\": messages}\n",
        "\n",
        "for event in app.stream(my_input, stream_mode=\"updates\"):\n",
        "    key = list(event.keys())[0]\n",
        "    msg = event[key]['messages'][0]\n",
        "    msg.pretty_print()\n",
        "\n",
        "    tracer.log_event(\n",
        "        event_type=\"message_sent\",\n",
        "        agent_name=\"line_agents\",\n",
        "        agent_type=\"custom\",\n",
        "        data={\"message\": msg.content}\n",
        "    )\n"
      ]
    },
    {
      "cell_type": "code",
      "execution_count": null,
      "metadata": {
        "colab": {
          "base_uri": "https://localhost:8080/"
        },
        "id": "xPrYqE4egHfF",
        "outputId": "55cbb418-a5a1-4ee9-f1f1-467d6595a1b7"
      },
      "outputs": [
        {
          "name": "stdout",
          "output_type": "stream",
          "text": [
            "Логи успешно сохранены в session_trace.json\n"
          ]
        }
      ],
      "source": [
        "output_file = \"session_trace.json\"\n",
        "\n",
        "session_json = {\n",
        "    \"session_id\": tracer.session_id,\n",
        "    \"events\": tracer.events\n",
        "}\n",
        "\n",
        "with open(output_file, \"w\", encoding=\"utf-8\") as f:\n",
        "    json.dump(session_json, f, ensure_ascii=False, indent=2)\n",
        "\n",
        "print(f\"Логи успешно сохранены в {output_file}\")"
      ]
    }
  ],
  "metadata": {
    "colab": {
      "provenance": []
    },
    "kernelspec": {
      "display_name": "Python 3",
      "name": "python3"
    },
    "language_info": {
      "name": "python"
    }
  },
  "nbformat": 4,
  "nbformat_minor": 0
}
